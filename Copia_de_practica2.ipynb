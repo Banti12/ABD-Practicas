{
  "nbformat": 4,
  "nbformat_minor": 0,
  "metadata": {
    "kernelspec": {
      "display_name": "Python 3",
      "language": "python",
      "name": "python3"
    },
    "language_info": {
      "codemirror_mode": {
        "name": "ipython",
        "version": 3
      },
      "file_extension": ".py",
      "mimetype": "text/x-python",
      "name": "python",
      "nbconvert_exporter": "python",
      "pygments_lexer": "ipython3",
      "version": "3.7.3"
    },
    "colab": {
      "name": "Copia de practica2.ipynb",
      "provenance": [],
      "include_colab_link": true
    }
  },
  "cells": [
    {
      "cell_type": "markdown",
      "metadata": {
        "id": "view-in-github",
        "colab_type": "text"
      },
      "source": [
        "<a href=\"https://colab.research.google.com/github/Banti12/ABD-Practicas/blob/master/Copia_de_practica2.ipynb\" target=\"_parent\"><img src=\"https://colab.research.google.com/assets/colab-badge.svg\" alt=\"Open In Colab\"/></a>"
      ]
    },
    {
      "cell_type": "markdown",
      "metadata": {
        "id": "D5xTSAp3PAPa",
        "colab_type": "text"
      },
      "source": [
        "<html>\n",
        "    <head>\n",
        "    </head>\n",
        "    <body>\n",
        "        <h1> Practica 2 </h1>\n",
        "      <p>\n",
        "        En la practica 2 hice un programa en el cual tiene que meter el nombre de la base de datos, el número de filas (“Datos para sacar las paginas”), y el número de registros aproximados que va a necesitar para la base de datos, es de manera muy fácil interactuar con ella.<br>\n",
        "Como detalle es que tiene que escribir correctamente el nombre de la base de datos.<br>\n",
        "        La ventaja de este programa es que calcula aproximadamente el tamaño de cualquier base datos que tenga en su manejador PostgreSQL.\n",
        "        <b> <br>\n",
        "Nota: para que funcione en otra computadora necesita cambiar la contraseña y el usuario de PostgreSQL desde el código fuente.\n",
        "        </b>\n",
        "      </p>  \n",
        "    </body>\n",
        "</html>\n",
        "<img src = \"https://docs.google.com/uc?export=download&id=1GgylBXDfDUrqrupeF8LfKLkbPObqwVuc\" width = \"500\">"
      ]
    },
    {
      "cell_type": "code",
      "metadata": {
        "id": "1zdu9gxDPAPi",
        "colab_type": "code",
        "colab": {}
      },
      "source": [
        ""
      ],
      "execution_count": 0,
      "outputs": []
    }
  ]
}